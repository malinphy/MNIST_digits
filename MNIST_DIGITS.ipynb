{
  "nbformat": 4,
  "nbformat_minor": 0,
  "metadata": {
    "colab": {
      "name": "MNIST_DIGITS.ipynb",
      "provenance": [],
      "collapsed_sections": [],
      "include_colab_link": true
    },
    "kernelspec": {
      "name": "python3",
      "display_name": "Python 3"
    }
  },
  "cells": [
    {
      "cell_type": "markdown",
      "metadata": {
        "id": "view-in-github",
        "colab_type": "text"
      },
      "source": [
        "<a href=\"https://colab.research.google.com/github/malinphy/MNIST_digits/blob/main/MNIST_DIGITS.ipynb\" target=\"_parent\"><img src=\"https://colab.research.google.com/assets/colab-badge.svg\" alt=\"Open In Colab\"/></a>"
      ]
    },
    {
      "cell_type": "code",
      "metadata": {
        "id": "XkIcJuoToluG"
      },
      "source": [
        "import numpy as np \n",
        "import pandas as pd \n",
        "import matplotlib.pyplot as plt \n",
        "import seaborn as sn\n",
        "\n",
        "import tensorflow as tf \n",
        "from tensorflow import keras\n",
        "from tensorflow.keras import Sequential \n",
        "from tensorflow.keras import layers \n",
        "from tensorflow.keras.layers import Dense\n",
        "from tensorflow.keras.layers import Flatten\n",
        "from tensorflow.keras.layers import Conv2D\n",
        "from tensorflow.keras.layers import MaxPooling2D\n",
        "\n",
        "from sklearn.preprocessing import LabelBinarizer\n",
        "from keras.models import model_from_json "
      ],
      "execution_count": 21,
      "outputs": []
    },
    {
      "cell_type": "code",
      "metadata": {
        "id": "ogclkn8PZsIo",
        "colab": {
          "base_uri": "https://localhost:8080/"
        },
        "outputId": "4ecf9f05-c18b-4ce3-ef18-5c3d7c044e8d"
      },
      "source": [
        "(X_train,y_train),(X_test,y_test) =  tf.keras.datasets.mnist.load_data(\n",
        "    path='mnist.npz'\n",
        ")"
      ],
      "execution_count": 2,
      "outputs": [
        {
          "output_type": "stream",
          "text": [
            "Downloading data from https://storage.googleapis.com/tensorflow/tf-keras-datasets/mnist.npz\n",
            "11493376/11490434 [==============================] - 0s 0us/step\n"
          ],
          "name": "stdout"
        }
      ]
    },
    {
      "cell_type": "code",
      "metadata": {
        "id": "r3FTRbuRZsLF",
        "colab": {
          "base_uri": "https://localhost:8080/"
        },
        "outputId": "a468ec1d-b22a-464e-e01f-dcd447694a80"
      },
      "source": [
        "X_train.dtype, y_train.dtype, X_test.dtype, y_test.dtype"
      ],
      "execution_count": 3,
      "outputs": [
        {
          "output_type": "execute_result",
          "data": {
            "text/plain": [
              "(dtype('uint8'), dtype('uint8'), dtype('uint8'), dtype('uint8'))"
            ]
          },
          "metadata": {
            "tags": []
          },
          "execution_count": 3
        }
      ]
    },
    {
      "cell_type": "code",
      "metadata": {
        "id": "3z2xBNGIBpuv"
      },
      "source": [
        ""
      ],
      "execution_count": 3,
      "outputs": []
    },
    {
      "cell_type": "code",
      "metadata": {
        "id": "E8OOWC2kAz1F"
      },
      "source": [
        "LB = LabelBinarizer()\n",
        "binarized_test = LB.fit_transform(y_test)\n",
        "binarized_train = LB.fit_transform(y_train)"
      ],
      "execution_count": 4,
      "outputs": []
    },
    {
      "cell_type": "code",
      "metadata": {
        "colab": {
          "base_uri": "https://localhost:8080/"
        },
        "id": "0vFTTz4ZBvPb",
        "outputId": "cb7a07b3-576b-4069-e7e7-c8d2c6df02cb"
      },
      "source": [
        "X_train.shape, X_test.shape, binarized_test.shape, binarized_train.shape"
      ],
      "execution_count": 5,
      "outputs": [
        {
          "output_type": "execute_result",
          "data": {
            "text/plain": [
              "((60000, 28, 28), (10000, 28, 28), (10000, 10), (60000, 10))"
            ]
          },
          "metadata": {
            "tags": []
          },
          "execution_count": 5
        }
      ]
    },
    {
      "cell_type": "code",
      "metadata": {
        "id": "k_ROY4S_ZsZW"
      },
      "source": [
        "X_train = X_train.astype('float32')\n",
        "y_train = y_train.astype('float32')\n",
        "X_test = X_test.astype('float32')\n",
        "y_test = y_test.astype('float32')"
      ],
      "execution_count": 6,
      "outputs": []
    },
    {
      "cell_type": "code",
      "metadata": {
        "id": "Eg_cE65xZsdq",
        "colab": {
          "base_uri": "https://localhost:8080/",
          "height": 283
        },
        "outputId": "5d94fe9c-72d4-4968-b796-653cab5d6aba"
      },
      "source": [
        "y_train[0],plt.imshow(X_train[0,:,:])"
      ],
      "execution_count": 7,
      "outputs": [
        {
          "output_type": "execute_result",
          "data": {
            "text/plain": [
              "(5.0, <matplotlib.image.AxesImage at 0x7fe2baff0358>)"
            ]
          },
          "metadata": {
            "tags": []
          },
          "execution_count": 7
        },
        {
          "output_type": "display_data",
          "data": {
            "image/png": "[encoded data removed]",
            "text/plain": [
              "<Figure size 432x288 with 1 Axes>"
            ]
          },
          "metadata": {
            "tags": [],
            "needs_background": "light"
          }
        }
      ]
    },
    {
      "cell_type": "code",
      "metadata": {
        "id": "YimlgKNcPxZo",
        "colab": {
          "base_uri": "https://localhost:8080/"
        },
        "outputId": "9176d7d8-095f-410c-c8bb-63b23216845c"
      },
      "source": [
        "np.max(X_test), np.min(X_test), np.min(X_train),np.max(X_train)"
      ],
      "execution_count": 8,
      "outputs": [
        {
          "output_type": "execute_result",
          "data": {
            "text/plain": [
              "(255.0, 0.0, 0.0, 255.0)"
            ]
          },
          "metadata": {
            "tags": []
          },
          "execution_count": 8
        }
      ]
    },
    {
      "cell_type": "code",
      "metadata": {
        "colab": {
          "base_uri": "https://localhost:8080/"
        },
        "id": "8y99d4fq_GKX",
        "outputId": "9ac76957-fd42-4de2-e218-aca68210c3fd"
      },
      "source": [
        "np.unique(y_train)"
      ],
      "execution_count": 9,
      "outputs": [
        {
          "output_type": "execute_result",
          "data": {
            "text/plain": [
              "array([0., 1., 2., 3., 4., 5., 6., 7., 8., 9.], dtype=float32)"
            ]
          },
          "metadata": {
            "tags": []
          },
          "execution_count": 9
        }
      ]
    },
    {
      "cell_type": "code",
      "metadata": {
        "id": "w2w4t1f9_GGZ"
      },
      "source": [
        "tf_model = Sequential()\n",
        "tf_model.add(Flatten(input_shape = (28,28)))\n",
        "tf_model.add(Dense(128,activation = 'relu'))\n",
        "tf_model.add(Dense(10,activation = 'sigmoid'))"
      ],
      "execution_count": 10,
      "outputs": []
    },
    {
      "cell_type": "code",
      "metadata": {
        "id": "ARhNpGG4_GBX"
      },
      "source": [
        "tf_model.compile(\n",
        "    loss = 'binary_crossentropy',\n",
        "    optimizer = 'adam',\n",
        "    metrics = ['accuracy']\n",
        "\n",
        "\n",
        ")"
      ],
      "execution_count": 11,
      "outputs": []
    },
    {
      "cell_type": "code",
      "metadata": {
        "colab": {
          "base_uri": "https://localhost:8080/"
        },
        "id": "dIBUt-x4_F9J",
        "outputId": "592ada3a-c295-4452-f562-5a7045dc71bb"
      },
      "source": [
        "res = tf_model.fit(X_train,binarized_train,epochs = 15)"
      ],
      "execution_count": 12,
      "outputs": [
        {
          "output_type": "stream",
          "text": [
            "Epoch 1/15\n",
            "1875/1875 [==============================] - 3s 2ms/step - loss: 0.4272 - accuracy: 0.8870\n",
            "Epoch 2/15\n",
            "1875/1875 [==============================] - 3s 2ms/step - loss: 0.0558 - accuracy: 0.9337\n",
            "Epoch 3/15\n",
            "1875/1875 [==============================] - 3s 2ms/step - loss: 0.0406 - accuracy: 0.9442\n",
            "Epoch 4/15\n",
            "1875/1875 [==============================] - 3s 2ms/step - loss: 0.0359 - accuracy: 0.9513\n",
            "Epoch 5/15\n",
            "1875/1875 [==============================] - 3s 2ms/step - loss: 0.0328 - accuracy: 0.9563\n",
            "Epoch 6/15\n",
            "1875/1875 [==============================] - 3s 2ms/step - loss: 0.0308 - accuracy: 0.9585\n",
            "Epoch 7/15\n",
            "1875/1875 [==============================] - 3s 2ms/step - loss: 0.0288 - accuracy: 0.9611\n",
            "Epoch 8/15\n",
            "1875/1875 [==============================] - 3s 2ms/step - loss: 0.0265 - accuracy: 0.9634\n",
            "Epoch 9/15\n",
            "1875/1875 [==============================] - 3s 2ms/step - loss: 0.0258 - accuracy: 0.9644\n",
            "Epoch 10/15\n",
            "1875/1875 [==============================] - 3s 2ms/step - loss: 0.0253 - accuracy: 0.9661\n",
            "Epoch 11/15\n",
            "1875/1875 [==============================] - 3s 2ms/step - loss: 0.0235 - accuracy: 0.9682\n",
            "Epoch 12/15\n",
            "1875/1875 [==============================] - 3s 2ms/step - loss: 0.0235 - accuracy: 0.9681\n",
            "Epoch 13/15\n",
            "1875/1875 [==============================] - 3s 2ms/step - loss: 0.0227 - accuracy: 0.9686\n",
            "Epoch 14/15\n",
            "1875/1875 [==============================] - 4s 2ms/step - loss: 0.0220 - accuracy: 0.9699\n",
            "Epoch 15/15\n",
            "1875/1875 [==============================] - 3s 2ms/step - loss: 0.0206 - accuracy: 0.9710\n"
          ],
          "name": "stdout"
        }
      ]
    },
    {
      "cell_type": "code",
      "metadata": {
        "id": "J2r1tA5M_Fx6"
      },
      "source": [
        "model_acc = res.history['accuracy']\n",
        "model_loss  = res.history['loss']"
      ],
      "execution_count": 13,
      "outputs": []
    },
    {
      "cell_type": "code",
      "metadata": {
        "colab": {
          "base_uri": "https://localhost:8080/",
          "height": 283
        },
        "id": "38Gy0OTs_Ft3",
        "outputId": "403c0d72-f776-46b9-ce56-606435e3fedf"
      },
      "source": [
        "plt.plot(model_loss,'-or')"
      ],
      "execution_count": 14,
      "outputs": [
        {
          "output_type": "execute_result",
          "data": {
            "text/plain": [
              "[<matplotlib.lines.Line2D at 0x7fe2b1cef8d0>]"
            ]
          },
          "metadata": {
            "tags": []
          },
          "execution_count": 14
        },
        {
          "output_type": "display_data",
          "data": {
            "image/png": "[encoded data removed]",
            "text/plain": [
              "<Figure size 432x288 with 1 Axes>"
            ]
          },
          "metadata": {
            "tags": [],
            "needs_background": "light"
          }
        }
      ]
    },
    {
      "cell_type": "code",
      "metadata": {
        "colab": {
          "base_uri": "https://localhost:8080/",
          "height": 283
        },
        "id": "MHdkgbRJ_Fpb",
        "outputId": "87617901-8aea-4178-b314-67f8d811276d"
      },
      "source": [
        "plt.plot(model_acc,'-ob')"
      ],
      "execution_count": 15,
      "outputs": [
        {
          "output_type": "execute_result",
          "data": {
            "text/plain": [
              "[<matplotlib.lines.Line2D at 0x7fe2b1c5ee80>]"
            ]
          },
          "metadata": {
            "tags": []
          },
          "execution_count": 15
        },
        {
          "output_type": "display_data",
          "data": {
            "image/png": "[encoded data removed]",
            "text/plain": [
              "<Figure size 432x288 with 1 Axes>"
            ]
          },
          "metadata": {
            "tags": [],
            "needs_background": "light"
          }
        }
      ]
    },
    {
      "cell_type": "code",
      "metadata": {
        "id": "nhB_VS3h_Fle"
      },
      "source": [
        "binarized_pred = tf_model.predict(X_test)"
      ],
      "execution_count": 16,
      "outputs": []
    },
    {
      "cell_type": "code",
      "metadata": {
        "id": "LlTJ3u6KDHzp"
      },
      "source": [
        "y_pred = np.argmax(binarized_pred , axis =1 )"
      ],
      "execution_count": 17,
      "outputs": []
    },
    {
      "cell_type": "code",
      "metadata": {
        "id": "ELunxTSuDHuJ"
      },
      "source": [
        ""
      ],
      "execution_count": 17,
      "outputs": []
    },
    {
      "cell_type": "code",
      "metadata": {
        "id": "2wvCsDCTDHn-"
      },
      "source": [
        "from sklearn.metrics import confusion_matrix\n",
        "from sklearn.metrics import plot_confusion_matrix"
      ],
      "execution_count": 18,
      "outputs": []
    },
    {
      "cell_type": "code",
      "metadata": {
        "colab": {
          "base_uri": "https://localhost:8080/"
        },
        "id": "2T5NMtI2DHfB",
        "outputId": "8049e6c7-3340-485e-d81d-938becb1045b"
      },
      "source": [
        "CM = confusion_matrix(y_test,y_pred)\n",
        "CM"
      ],
      "execution_count": 19,
      "outputs": [
        {
          "output_type": "execute_result",
          "data": {
            "text/plain": [
              "array([[ 954,    1,    2,    3,    0,    5,    2,    3,   10,    0],\n",
              "       [   0, 1119,    2,    2,    0,    1,    2,    0,    9,    0],\n",
              "       [   1,    0,  974,    6,    0,    0,    2,   10,   37,    2],\n",
              "       [   1,    0,    7,  959,    1,   20,    0,    2,   18,    2],\n",
              "       [   1,    0,    2,    0,  950,    0,    4,    2,    5,   18],\n",
              "       [   2,    2,    1,   16,    2,  844,    8,    2,   13,    2],\n",
              "       [   6,    3,    2,    0,    6,   11,  919,    0,   11,    0],\n",
              "       [   0,    5,    5,    6,    8,    0,    0,  977,   11,   16],\n",
              "       [   6,    0,    1,    4,    5,    8,    2,    5,  941,    2],\n",
              "       [   2,    6,    1,   10,   19,   10,    0,   13,   24,  924]])"
            ]
          },
          "metadata": {
            "tags": []
          },
          "execution_count": 19
        }
      ]
    },
    {
      "cell_type": "code",
      "metadata": {
        "colab": {
          "base_uri": "https://localhost:8080/",
          "height": 446
        },
        "id": "2TwXj_lTDHU_",
        "outputId": "0fd07ed2-88ad-48d8-8a7e-80ed0463158b"
      },
      "source": [
        "plt.figure(figsize = (10,7))\n",
        "sn.heatmap(confusion_matrix (y_test,y_pred), annot = True, cmap=plt.cm.Reds )"
      ],
      "execution_count": 20,
      "outputs": [
        {
          "output_type": "execute_result",
          "data": {
            "text/plain": [
              "<matplotlib.axes._subplots.AxesSubplot at 0x7fe2ffc5bd68>"
            ]
          },
          "metadata": {
            "tags": []
          },
          "execution_count": 20
        },
        {
          "output_type": "display_data",
          "data": {
            "image/png": "[encoded data removed]",
            "text/plain": [
              "<Figure size 720x504 with 2 Axes>"
            ]
          },
          "metadata": {
            "tags": [],
            "needs_background": "light"
          }
        }
      ]
    },
    {
      "cell_type": "code",
      "metadata": {
        "id": "qO6ngl4p_Fgy"
      },
      "source": [
        "# serialize model to JSON\r\n",
        "model_json = tf_model.to_json()\r\n",
        "with open(\"model.json\", \"w\") as json_file:\r\n",
        "    json_file.write(model_json)\r\n",
        "# serialize weights to HDF5\r\n",
        "tf_model.save_weights(\"tf_model.h5\")\r\n",
        "# print(\"Saved model to disk\")\r\n"
      ],
      "execution_count": 25,
      "outputs": []
    },
    {
      "cell_type": "code",
      "metadata": {
        "colab": {
          "base_uri": "https://localhost:8080/"
        },
        "id": "3OnSXk3mh54I",
        "outputId": "7dba975e-ac91-493e-cfc2-b0f26d9f9d89"
      },
      "source": [
        "json_file = open('model.json', 'r')\r\n",
        "loaded_model_json = json_file.read()\r\n",
        "json_file.close()\r\n",
        "loaded_model = model_from_json(loaded_model_json)\r\n",
        "# load weights into new model\r\n",
        "loaded_model.load_weights(\"tf_model.h5\")\r\n",
        "print(\"Loaded model from disk\")\r\n",
        "\r\n",
        "# evaluate loaded model on test data\r\n",
        "# loaded_model.compile(loss='binary_crossentropy', optimizer='adam', metrics=['accuracy'])\r\n",
        "# score = loaded_model.evaluate(X, Y, verbose=0)\r\n",
        "# print(\"%s: %.2f%%\" % (loaded_model.metrics_names[1], score[1]*100))"
      ],
      "execution_count": 26,
      "outputs": [
        {
          "output_type": "stream",
          "text": [
            "Loaded model from disk\n"
          ],
          "name": "stdout"
        }
      ]
    },
    {
      "cell_type": "code",
      "metadata": {
        "id": "H_49WT8ZiR6z"
      },
      "source": [
        ""
      ],
      "execution_count": null,
      "outputs": []
    }
  ]
}