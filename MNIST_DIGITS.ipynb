{
  "nbformat": 4,
  "nbformat_minor": 0,
  "metadata": {
    "colab": {
      "name": "MNIST_DIGITS.ipynb",
      "provenance": [],
      "collapsed_sections": [],
      "include_colab_link": true
    },
    "kernelspec": {
      "name": "python3",
      "display_name": "Python 3"
    }
  },
  "cells": [
    {
      "cell_type": "markdown",
      "metadata": {
        "id": "view-in-github",
        "colab_type": "text"
      },
      "source": [
        "<a href=\"https://colab.research.google.com/github/malinphy/MNIST_digits/blob/main/MNIST_DIGITS.ipynb\" target=\"_parent\"><img src=\"https://colab.research.google.com/assets/colab-badge.svg\" alt=\"Open In Colab\"/></a>"
      ]
    },
    {
      "cell_type": "code",
      "metadata": {
        "id": "XkIcJuoToluG"
      },
      "source": [
        "import numpy as np \n",
        "import pandas as pd \n",
        "import matplotlib.pyplot as plt \n",
        "import seaborn as sn\n",
        "\n",
        "import tensorflow as tf \n",
        "from tensorflow import keras\n",
        "from tensorflow.keras import Sequential \n",
        "from tensorflow.keras import layers \n",
        "from tensorflow.keras.layers import Dense\n",
        "from tensorflow.keras.layers import Flatten\n",
        "from tensorflow.keras.layers import Conv2D\n",
        "from tensorflow.keras.layers import MaxPooling2D\n",
        "\n",
        "from sklearn.preprocessing import LabelBinarizer "
      ],
      "execution_count": 1,
      "outputs": []
    },
    {
      "cell_type": "code",
      "metadata": {
        "id": "ogclkn8PZsIo"
      },
      "source": [
        "(X_train,y_train),(X_test,y_test) =  tf.keras.datasets.mnist.load_data(\n",
        "    path='mnist.npz'\n",
        ")"
      ],
      "execution_count": 2,
      "outputs": []
    },
    {
      "cell_type": "code",
      "metadata": {
        "id": "r3FTRbuRZsLF",
        "colab": {
          "base_uri": "https://localhost:8080/"
        },
        "outputId": "ba4cd073-6f40-4fb8-e9cd-36f7ab8e5a50"
      },
      "source": [
        "X_train.dtype, y_train.dtype, X_test.dtype, y_test.dtype"
      ],
      "execution_count": 3,
      "outputs": [
        {
          "output_type": "execute_result",
          "data": {
            "text/plain": [
              "(dtype('uint8'), dtype('uint8'), dtype('uint8'), dtype('uint8'))"
            ]
          },
          "metadata": {
            "tags": []
          },
          "execution_count": 3
        }
      ]
    },
    {
      "cell_type": "code",
      "metadata": {
        "id": "3z2xBNGIBpuv"
      },
      "source": [
        ""
      ],
      "execution_count": 3,
      "outputs": []
    },
    {
      "cell_type": "code",
      "metadata": {
        "id": "E8OOWC2kAz1F"
      },
      "source": [
        "LB = LabelBinarizer()\n",
        "binarized_test = LB.fit_transform(y_test)\n",
        "binarized_train = LB.fit_transform(y_train)"
      ],
      "execution_count": 4,
      "outputs": []
    },
    {
      "cell_type": "code",
      "metadata": {
        "colab": {
          "base_uri": "https://localhost:8080/"
        },
        "id": "0vFTTz4ZBvPb",
        "outputId": "e14e2121-c091-4d09-abc0-fb83b9dfd3fe"
      },
      "source": [
        "X_train.shape, X_test.shape, binarized_test.shape, binarized_train.shape"
      ],
      "execution_count": 5,
      "outputs": [
        {
          "output_type": "execute_result",
          "data": {
            "text/plain": [
              "((60000, 28, 28), (10000, 28, 28), (10000, 10), (60000, 10))"
            ]
          },
          "metadata": {
            "tags": []
          },
          "execution_count": 5
        }
      ]
    },
    {
      "cell_type": "code",
      "metadata": {
        "id": "k_ROY4S_ZsZW"
      },
      "source": [
        "X_train = X_train.astype('float32')\n",
        "y_train = y_train.astype('float32')\n",
        "X_test = X_test.astype('float32')\n",
        "y_test = y_test.astype('float32')"
      ],
      "execution_count": 6,
      "outputs": []
    },
    {
      "cell_type": "code",
      "metadata": {
        "id": "Eg_cE65xZsdq",
        "colab": {
          "base_uri": "https://localhost:8080/",
          "height": 283
        },
        "outputId": "7b9134f9-619f-44e3-d765-d662c948f604"
      },
      "source": [
        "y_train[0],plt.imshow(X_train[0,:,:])"
      ],
      "execution_count": 7,
      "outputs": [
        {
          "output_type": "execute_result",
          "data": {
            "text/plain": [
              "(5.0, <matplotlib.image.AxesImage at 0x7fc4c3b176a0>)"
            ]
          },
          "metadata": {
            "tags": []
          },
          "execution_count": 7
        },
        {
          "output_type": "display_data",
          "data": {
            "image/png": "[encoded data removed]",
            "text/plain": [
              "<Figure size 432x288 with 1 Axes>"
            ]
          },
          "metadata": {
            "tags": [],
            "needs_background": "light"
          }
        }
      ]
    },
    {
      "cell_type": "code",
      "metadata": {
        "id": "YimlgKNcPxZo",
        "colab": {
          "base_uri": "https://localhost:8080/"
        },
        "outputId": "305dea6a-3e47-49b8-fd75-f4b7d4c1d1ba"
      },
      "source": [
        "np.max(X_test), np.min(X_test), np.min(X_train),np.max(X_train)"
      ],
      "execution_count": 8,
      "outputs": [
        {
          "output_type": "execute_result",
          "data": {
            "text/plain": [
              "(255.0, 0.0, 0.0, 255.0)"
            ]
          },
          "metadata": {
            "tags": []
          },
          "execution_count": 8
        }
      ]
    },
    {
      "cell_type": "code",
      "metadata": {
        "colab": {
          "base_uri": "https://localhost:8080/"
        },
        "id": "8y99d4fq_GKX",
        "outputId": "a49911fd-3e31-4fc5-d3a8-7e6344ec7ca0"
      },
      "source": [
        "np.unique(y_train)"
      ],
      "execution_count": 9,
      "outputs": [
        {
          "output_type": "execute_result",
          "data": {
            "text/plain": [
              "array([0., 1., 2., 3., 4., 5., 6., 7., 8., 9.], dtype=float32)"
            ]
          },
          "metadata": {
            "tags": []
          },
          "execution_count": 9
        }
      ]
    },
    {
      "cell_type": "code",
      "metadata": {
        "id": "w2w4t1f9_GGZ"
      },
      "source": [
        "tf_model = Sequential()\n",
        "tf_model.add(Flatten(input_shape = (28,28)))\n",
        "tf_model.add(Dense(256,activation = 'relu'))\n",
        "tf_model.add(Dense(10,activation = 'sigmoid'))"
      ],
      "execution_count": 10,
      "outputs": []
    },
    {
      "cell_type": "code",
      "metadata": {
        "id": "ARhNpGG4_GBX"
      },
      "source": [
        "tf_model.compile(\n",
        "    loss = 'binary_crossentropy',\n",
        "    optimizer = 'adam',\n",
        "    metrics = ['accuracy']\n",
        "\n",
        "\n",
        ")"
      ],
      "execution_count": 11,
      "outputs": []
    },
    {
      "cell_type": "code",
      "metadata": {
        "colab": {
          "base_uri": "https://localhost:8080/"
        },
        "id": "dIBUt-x4_F9J",
        "outputId": "7420081f-1484-43f0-9d76-74315ef1f564"
      },
      "source": [
        "res = tf_model.fit(X_train,binarized_train,epochs = 15)"
      ],
      "execution_count": 12,
      "outputs": [
        {
          "output_type": "stream",
          "text": [
            "Epoch 1/15\n",
            "1875/1875 [==============================] - 5s 3ms/step - loss: 0.3737 - accuracy: 0.9115\n",
            "Epoch 2/15\n",
            "1875/1875 [==============================] - 5s 3ms/step - loss: 0.0470 - accuracy: 0.9506\n",
            "Epoch 3/15\n",
            "1875/1875 [==============================] - 5s 3ms/step - loss: 0.0358 - accuracy: 0.9575\n",
            "Epoch 4/15\n",
            "1875/1875 [==============================] - 5s 3ms/step - loss: 0.0324 - accuracy: 0.9604\n",
            "Epoch 5/15\n",
            "1875/1875 [==============================] - 4s 2ms/step - loss: 0.0325 - accuracy: 0.9609\n",
            "Epoch 6/15\n",
            "1875/1875 [==============================] - 5s 2ms/step - loss: 0.0286 - accuracy: 0.9657\n",
            "Epoch 7/15\n",
            "1875/1875 [==============================] - 5s 2ms/step - loss: 0.0279 - accuracy: 0.9676\n",
            "Epoch 8/15\n",
            "1875/1875 [==============================] - 5s 2ms/step - loss: 0.0263 - accuracy: 0.9681\n",
            "Epoch 9/15\n",
            "1875/1875 [==============================] - 5s 2ms/step - loss: 0.0238 - accuracy: 0.9716\n",
            "Epoch 10/15\n",
            "1875/1875 [==============================] - 4s 2ms/step - loss: 0.0230 - accuracy: 0.9727\n",
            "Epoch 11/15\n",
            "1875/1875 [==============================] - 5s 2ms/step - loss: 0.0222 - accuracy: 0.9738\n",
            "Epoch 12/15\n",
            "1875/1875 [==============================] - 5s 2ms/step - loss: 0.0213 - accuracy: 0.9741\n",
            "Epoch 13/15\n",
            "1875/1875 [==============================] - 5s 2ms/step - loss: 0.0208 - accuracy: 0.9741\n",
            "Epoch 14/15\n",
            "1875/1875 [==============================] - 5s 2ms/step - loss: 0.0198 - accuracy: 0.9760\n",
            "Epoch 15/15\n",
            "1875/1875 [==============================] - 5s 2ms/step - loss: 0.0192 - accuracy: 0.9767\n"
          ],
          "name": "stdout"
        }
      ]
    },
    {
      "cell_type": "code",
      "metadata": {
        "id": "J2r1tA5M_Fx6"
      },
      "source": [
        "model_acc = res.history['accuracy']\n",
        "model_loss  = res.history['loss']"
      ],
      "execution_count": 13,
      "outputs": []
    },
    {
      "cell_type": "code",
      "metadata": {
        "colab": {
          "base_uri": "https://localhost:8080/",
          "height": 283
        },
        "id": "38Gy0OTs_Ft3",
        "outputId": "437ada0e-ebb7-4b79-f6d5-a7c1cdf82514"
      },
      "source": [
        "plt.plot(model_loss,'-or')"
      ],
      "execution_count": 14,
      "outputs": [
        {
          "output_type": "execute_result",
          "data": {
            "text/plain": [
              "[<matplotlib.lines.Line2D at 0x7fc4ba816cc0>]"
            ]
          },
          "metadata": {
            "tags": []
          },
          "execution_count": 14
        },
        {
          "output_type": "display_data",
          "data": {
            "image/png": "[encoded data removed]",
            "text/plain": [
              "<Figure size 432x288 with 1 Axes>"
            ]
          },
          "metadata": {
            "tags": [],
            "needs_background": "light"
          }
        }
      ]
    },
    {
      "cell_type": "code",
      "metadata": {
        "colab": {
          "base_uri": "https://localhost:8080/",
          "height": 283
        },
        "id": "MHdkgbRJ_Fpb",
        "outputId": "075c7b98-b70f-42ef-a16f-56e370cf5a2a"
      },
      "source": [
        "plt.plot(model_acc,'-ob')"
      ],
      "execution_count": 15,
      "outputs": [
        {
          "output_type": "execute_result",
          "data": {
            "text/plain": [
              "[<matplotlib.lines.Line2D at 0x7fc4ba78e160>]"
            ]
          },
          "metadata": {
            "tags": []
          },
          "execution_count": 15
        },
        {
          "output_type": "display_data",
          "data": {
            "image/png": "[encoded data removed]",
            "text/plain": [
              "<Figure size 432x288 with 1 Axes>"
            ]
          },
          "metadata": {
            "tags": [],
            "needs_background": "light"
          }
        }
      ]
    },
    {
      "cell_type": "code",
      "metadata": {
        "id": "nhB_VS3h_Fle"
      },
      "source": [
        "binarized_pred = tf_model.predict(X_test)"
      ],
      "execution_count": 16,
      "outputs": []
    },
    {
      "cell_type": "code",
      "metadata": {
        "id": "LlTJ3u6KDHzp"
      },
      "source": [
        "y_pred = np.argmax(binarized_pred , axis =1 )"
      ],
      "execution_count": 17,
      "outputs": []
    },
    {
      "cell_type": "code",
      "metadata": {
        "id": "ELunxTSuDHuJ"
      },
      "source": [
        ""
      ],
      "execution_count": 17,
      "outputs": []
    },
    {
      "cell_type": "code",
      "metadata": {
        "id": "2wvCsDCTDHn-"
      },
      "source": [
        "from sklearn.metrics import confusion_matrix\n",
        "from sklearn.metrics import plot_confusion_matrix"
      ],
      "execution_count": 18,
      "outputs": []
    },
    {
      "cell_type": "code",
      "metadata": {
        "colab": {
          "base_uri": "https://localhost:8080/"
        },
        "id": "2T5NMtI2DHfB",
        "outputId": "3ce02b77-24df-47e8-df51-ce30806e6eac"
      },
      "source": [
        "CM = confusion_matrix(y_test,y_pred)\n",
        "CM"
      ],
      "execution_count": 19,
      "outputs": [
        {
          "output_type": "execute_result",
          "data": {
            "text/plain": [
              "array([[ 974,    0,    0,    1,    0,    0,    0,    1,    4,    0],\n",
              "       [   0, 1116,    3,    3,    0,    2,    0,    0,    9,    2],\n",
              "       [   4,    2,  979,    9,    2,    2,    2,    9,   22,    1],\n",
              "       [   2,    0,    3,  979,    0,    5,    0,    5,   15,    1],\n",
              "       [   4,    1,    0,    0,  937,    0,    9,    4,   10,   17],\n",
              "       [   6,    1,    0,   20,    0,  828,    6,    4,   25,    2],\n",
              "       [  15,    4,    1,    0,    4,    6,  911,    0,   17,    0],\n",
              "       [   1,    4,   11,    4,    3,    0,    0,  989,    5,   11],\n",
              "       [   4,    1,    3,   11,    5,    5,    1,    2,  938,    4],\n",
              "       [   2,    5,    1,    5,   14,    9,    0,    7,   12,  954]])"
            ]
          },
          "metadata": {
            "tags": []
          },
          "execution_count": 19
        }
      ]
    },
    {
      "cell_type": "code",
      "metadata": {
        "colab": {
          "base_uri": "https://localhost:8080/",
          "height": 446
        },
        "id": "2TwXj_lTDHU_",
        "outputId": "5dbf1627-c94f-42e0-f2f0-68a4637cd409"
      },
      "source": [
        "plt.figure(figsize = (10,7))\n",
        "sn.heatmap(confusion_matrix (y_test,y_pred), annot = True, cmap=plt.cm.Reds )"
      ],
      "execution_count": 21,
      "outputs": [
        {
          "output_type": "execute_result",
          "data": {
            "text/plain": [
              "<matplotlib.axes._subplots.AxesSubplot at 0x7fc4ba77d0b8>"
            ]
          },
          "metadata": {
            "tags": []
          },
          "execution_count": 21
        },
        {
          "output_type": "display_data",
          "data": {
            "image/png": "[encoded data removed]",
            "text/plain": [
              "<Figure size 720x504 with 2 Axes>"
            ]
          },
          "metadata": {
            "tags": [],
            "needs_background": "light"
          }
        }
      ]
    },
    {
      "cell_type": "code",
      "metadata": {
        "id": "qO6ngl4p_Fgy"
      },
      "source": [
        ""
      ],
      "execution_count": null,
      "outputs": []
    }
  ]
}