{
  "nbformat": 4,
  "nbformat_minor": 0,
  "metadata": {
    "colab": {
      "name": "MNIST_DIGITS.ipynb",
      "provenance": [],
      "collapsed_sections": [],
      "include_colab_link": true
    },
    "kernelspec": {
      "name": "python3",
      "display_name": "Python 3"
    }
  },
  "cells": [
    {
      "cell_type": "markdown",
      "metadata": {
        "id": "view-in-github",
        "colab_type": "text"
      },
      "source": [
        "<a href=\"https://colab.research.google.com/github/malinphy/MNIST_digits/blob/main/MNIST_DIGITS.ipynb\" target=\"_parent\"><img src=\"https://colab.research.google.com/assets/colab-badge.svg\" alt=\"Open In Colab\"/></a>"
      ]
    },
    {
      "cell_type": "code",
      "metadata": {
        "id": "XkIcJuoToluG"
      },
      "source": [
        "import numpy as np \n",
        "import pandas as pd \n",
        "import matplotlib.pyplot as plt \n",
        "import seaborn as sn\n",
        "\n",
        "import tensorflow as tf \n",
        "from tensorflow import keras\n",
        "from tensorflow.keras import Sequential \n",
        "from tensorflow.keras import layers \n",
        "from tensorflow.keras.layers import Dense\n",
        "from tensorflow.keras.layers import Flatten\n",
        "from tensorflow.keras.layers import Conv2D\n",
        "from tensorflow.keras.layers import MaxPooling2D\n",
        "\n",
        "from sklearn.preprocessing import LabelBinarizer "
      ],
      "execution_count": 1,
      "outputs": []
    },
    {
      "cell_type": "code",
      "metadata": {
        "id": "ogclkn8PZsIo"
      },
      "source": [
        "(X_train,y_train),(X_test,y_test) =  tf.keras.datasets.mnist.load_data(\n",
        "    path='mnist.npz'\n",
        ")"
      ],
      "execution_count": 2,
      "outputs": []
    },
    {
      "cell_type": "code",
      "metadata": {
        "id": "r3FTRbuRZsLF",
        "colab": {
          "base_uri": "https://localhost:8080/"
        },
        "outputId": "ba4cd073-6f40-4fb8-e9cd-36f7ab8e5a50"
      },
      "source": [
        "X_train.dtype, y_train.dtype, X_test.dtype, y_test.dtype"
      ],
      "execution_count": 3,
      "outputs": [
        {
          "output_type": "execute_result",
          "data": {
            "text/plain": [
              "(dtype('uint8'), dtype('uint8'), dtype('uint8'), dtype('uint8'))"
            ]
          },
          "metadata": {
            "tags": []
          },
          "execution_count": 3
        }
      ]
    },
    {
      "cell_type": "code",
      "metadata": {
        "id": "3z2xBNGIBpuv"
      },
      "source": [
        ""
      ],
      "execution_count": 3,
      "outputs": []
    },
    {
      "cell_type": "code",
      "metadata": {
        "id": "E8OOWC2kAz1F"
      },
      "source": [
        "LB = LabelBinarizer()\n",
        "binarized_test = LB.fit_transform(y_test)\n",
        "binarized_train = LB.fit_transform(y_train)"
      ],
      "execution_count": 4,
      "outputs": []
    },
    {
      "cell_type": "code",
      "metadata": {
        "colab": {
          "base_uri": "https://localhost:8080/"
        },
        "id": "0vFTTz4ZBvPb",
        "outputId": "e14e2121-c091-4d09-abc0-fb83b9dfd3fe"
      },
      "source": [
        "X_train.shape, X_test.shape, binarized_test.shape, binarized_train.shape"
      ],
      "execution_count": 5,
      "outputs": [
        {
          "output_type": "execute_result",
          "data": {
            "text/plain": [
              "((60000, 28, 28), (10000, 28, 28), (10000, 10), (60000, 10))"
            ]
          },
          "metadata": {
            "tags": []
          },
          "execution_count": 5
        }
      ]
    },
    {
      "cell_type": "code",
      "metadata": {
        "id": "k_ROY4S_ZsZW"
      },
      "source": [
        "X_train = X_train.astype('float32')\n",
        "y_train = y_train.astype('float32')\n",
        "X_test = X_test.astype('float32')\n",
        "y_test = y_test.astype('float32')"
      ],
      "execution_count": 6,
      "outputs": []
    },
    {
      "cell_type": "code",
      "metadata": {
        "id": "Eg_cE65xZsdq",
        "colab": {
          "base_uri": "https://localhost:8080/",
          "height": 283
        },
        "outputId": "7b9134f9-619f-44e3-d765-d662c948f604"
      },
      "source": [
        "y_train[0],plt.imshow(X_train[0,:,:])"
      ],
      "execution_count": 7,
      "outputs": [
        {
          "output_type": "execute_result",
          "data": {
            "text/plain": [
              "(5.0, <matplotlib.image.AxesImage at 0x7fc4c3b176a0>)"
            ]
          },
          "metadata": {
            "tags": []
          },
          "execution_count": 7
        },
        {
          "output_type": "display_data",
          "data": {
            "image/png": "[encoded data removed]",
            "text/plain": [
              "<Figure size 432x288 with 1 Axes>"
            ]
          },
          "metadata": {
            "tags": [],
            "needs_background": "light"
          }
        }
      ]
    },
    {
      "cell_type": "code",
      "metadata": {
        "id": "YimlgKNcPxZo",
        "colab": {
          "base_uri": "https://localhost:8080/"
        },
        "outputId": "305dea6a-3e47-49b8-fd75-f4b7d4c1d1ba"
      },
      "source": [
        "np.max(X_test), np.min(X_test), np.min(X_train),np.max(X_train)"
      ],
      "execution_count": 8,
      "outputs": [
        {
          "output_type": "execute_result",
          "data": {
            "text/plain": [
              "(255.0, 0.0, 0.0, 255.0)"
            ]
          },
          "metadata": {
            "tags": []
          },
          "execution_count": 8
        }
      ]
    },
    {
      "cell_type": "code",
      "metadata": {
        "colab": {
          "base_uri": "https://localhost:8080/"
        },
        "id": "8y99d4fq_GKX",
        "outputId": "a49911fd-3e31-4fc5-d3a8-7e6344ec7ca0"
      },
      "source": [
        "np.unique(y_train)"
      ],
      "execution_count": 9,
      "outputs": [
        {
          "output_type": "execute_result",
          "data": {
            "text/plain": [
              "array([0., 1., 2., 3., 4., 5., 6., 7., 8., 9.], dtype=float32)"
            ]
          },
          "metadata": {
            "tags": []
          },
          "execution_count": 9
        }
      ]
    },
    {
      "cell_type": "code",
      "metadata": {
        "id": "w2w4t1f9_GGZ"
      },
      "source": [
        "tf_model = Sequential()\n",
        "tf_model.add(Flatten(input_shape = (28,28)))\n",
        "tf_model.add(Dense(128,activation = 'relu'))\n",
        "tf_model.add(Dense(10,activation = 'sigmoid'))"
      ],
      "execution_count": 33,
      "outputs": []
    },
    {
      "cell_type": "code",
      "metadata": {
        "id": "ARhNpGG4_GBX"
      },
      "source": [
        "tf_model.compile(\n",
        "    loss = 'binary_crossentropy',\n",
        "    optimizer = 'adam',\n",
        "    metrics = ['accuracy']\n",
        "\n",
        "\n",
        ")"
      ],
      "execution_count": 34,
      "outputs": []
    },
    {
      "cell_type": "code",
      "metadata": {
        "colab": {
          "base_uri": "https://localhost:8080/"
        },
        "id": "dIBUt-x4_F9J",
        "outputId": "b6602a73-27f8-43ea-d353-d8337f7fe97e"
      },
      "source": [
        "res = tf_model.fit(X_train,binarized_train,epochs = 15)"
      ],
      "execution_count": 35,
      "outputs": [
        {
          "output_type": "stream",
          "text": [
            "Epoch 1/15\n",
            "1875/1875 [==============================] - 3s 2ms/step - loss: 0.4346 - accuracy: 0.8943\n",
            "Epoch 2/15\n",
            "1875/1875 [==============================] - 3s 2ms/step - loss: 0.0569 - accuracy: 0.9345\n",
            "Epoch 3/15\n",
            "1875/1875 [==============================] - 3s 2ms/step - loss: 0.0417 - accuracy: 0.9471\n",
            "Epoch 4/15\n",
            "1875/1875 [==============================] - 3s 2ms/step - loss: 0.0367 - accuracy: 0.9511\n",
            "Epoch 5/15\n",
            "1875/1875 [==============================] - 3s 2ms/step - loss: 0.0341 - accuracy: 0.9564\n",
            "Epoch 6/15\n",
            "1875/1875 [==============================] - 3s 2ms/step - loss: 0.0302 - accuracy: 0.9611\n",
            "Epoch 7/15\n",
            "1875/1875 [==============================] - 3s 2ms/step - loss: 0.0287 - accuracy: 0.9627\n",
            "Epoch 8/15\n",
            "1875/1875 [==============================] - 3s 2ms/step - loss: 0.0263 - accuracy: 0.9657\n",
            "Epoch 9/15\n",
            "1875/1875 [==============================] - 3s 2ms/step - loss: 0.0257 - accuracy: 0.9666\n",
            "Epoch 10/15\n",
            "1875/1875 [==============================] - 3s 2ms/step - loss: 0.0238 - accuracy: 0.9685\n",
            "Epoch 11/15\n",
            "1875/1875 [==============================] - 3s 2ms/step - loss: 0.0233 - accuracy: 0.9702\n",
            "Epoch 12/15\n",
            "1875/1875 [==============================] - 3s 2ms/step - loss: 0.0223 - accuracy: 0.9711\n",
            "Epoch 13/15\n",
            "1875/1875 [==============================] - 3s 2ms/step - loss: 0.0210 - accuracy: 0.9722\n",
            "Epoch 14/15\n",
            "1875/1875 [==============================] - 3s 2ms/step - loss: 0.0206 - accuracy: 0.9728\n",
            "Epoch 15/15\n",
            "1875/1875 [==============================] - 3s 2ms/step - loss: 0.0199 - accuracy: 0.9739\n"
          ],
          "name": "stdout"
        }
      ]
    },
    {
      "cell_type": "code",
      "metadata": {
        "id": "J2r1tA5M_Fx6"
      },
      "source": [
        "model_acc = res.history['accuracy']\n",
        "model_loss  = res.history['loss']"
      ],
      "execution_count": 36,
      "outputs": []
    },
    {
      "cell_type": "code",
      "metadata": {
        "colab": {
          "base_uri": "https://localhost:8080/",
          "height": 283
        },
        "id": "38Gy0OTs_Ft3",
        "outputId": "4e70e550-45a8-4b18-ac24-23eae282d340"
      },
      "source": [
        "plt.plot(model_loss,'-or')"
      ],
      "execution_count": 37,
      "outputs": [
        {
          "output_type": "execute_result",
          "data": {
            "text/plain": [
              "[<matplotlib.lines.Line2D at 0x7fc4bc55fac8>]"
            ]
          },
          "metadata": {
            "tags": []
          },
          "execution_count": 37
        },
        {
          "output_type": "display_data",
          "data": {
            "image/png": "[encoded data removed]",
            "text/plain": [
              "<Figure size 432x288 with 1 Axes>"
            ]
          },
          "metadata": {
            "tags": [],
            "needs_background": "light"
          }
        }
      ]
    },
    {
      "cell_type": "code",
      "metadata": {
        "colab": {
          "base_uri": "https://localhost:8080/",
          "height": 283
        },
        "id": "MHdkgbRJ_Fpb",
        "outputId": "f2f2df67-07b1-48a9-c719-df60ddb8cf1d"
      },
      "source": [
        "plt.plot(model_acc,'-ob')"
      ],
      "execution_count": 38,
      "outputs": [
        {
          "output_type": "execute_result",
          "data": {
            "text/plain": [
              "[<matplotlib.lines.Line2D at 0x7fc4b76ea1d0>]"
            ]
          },
          "metadata": {
            "tags": []
          },
          "execution_count": 38
        },
        {
          "output_type": "display_data",
          "data": {
            "image/png": "[encoded data removed]",
            "text/plain": [
              "<Figure size 432x288 with 1 Axes>"
            ]
          },
          "metadata": {
            "tags": [],
            "needs_background": "light"
          }
        }
      ]
    },
    {
      "cell_type": "code",
      "metadata": {
        "id": "nhB_VS3h_Fle"
      },
      "source": [
        "binarized_pred = tf_model.predict(X_test)"
      ],
      "execution_count": 39,
      "outputs": []
    },
    {
      "cell_type": "code",
      "metadata": {
        "id": "LlTJ3u6KDHzp"
      },
      "source": [
        "y_pred = np.argmax(binarized_pred , axis =1 )"
      ],
      "execution_count": 40,
      "outputs": []
    },
    {
      "cell_type": "code",
      "metadata": {
        "id": "ELunxTSuDHuJ"
      },
      "source": [
        ""
      ],
      "execution_count": 29,
      "outputs": []
    },
    {
      "cell_type": "code",
      "metadata": {
        "id": "2wvCsDCTDHn-"
      },
      "source": [
        "from sklearn.metrics import confusion_matrix\n",
        "from sklearn.metrics import plot_confusion_matrix"
      ],
      "execution_count": 30,
      "outputs": []
    },
    {
      "cell_type": "code",
      "metadata": {
        "colab": {
          "base_uri": "https://localhost:8080/"
        },
        "id": "2T5NMtI2DHfB",
        "outputId": "7559609d-2d71-4978-e44c-1890fc7a5b0d"
      },
      "source": [
        "CM = confusion_matrix(y_test,y_pred)\n",
        "CM"
      ],
      "execution_count": 31,
      "outputs": [
        {
          "output_type": "execute_result",
          "data": {
            "text/plain": [
              "array([[ 958,    0,    0,    1,    0,    1,    5,    3,   11,    1],\n",
              "       [   0, 1114,    1,    4,    0,    2,    2,    0,   12,    0],\n",
              "       [   1,    0,  999,    5,    0,    0,    2,    4,   17,    4],\n",
              "       [   0,    0,    5,  977,    0,    3,    0,    3,   19,    3],\n",
              "       [   2,    0,    3,    1,  926,    0,    2,    5,   10,   33],\n",
              "       [   4,    1,    1,   15,    0,  825,    8,    3,   28,    7],\n",
              "       [   5,    2,    2,    0,    6,    9,  922,    0,   12,    0],\n",
              "       [   1,    5,   11,    2,    2,    0,    0,  984,   11,   12],\n",
              "       [   3,    1,    4,    6,    4,    1,    4,    3,  938,   10],\n",
              "       [   1,    3,    1,   12,    9,    1,    0,    6,   13,  963]])"
            ]
          },
          "metadata": {
            "tags": []
          },
          "execution_count": 31
        }
      ]
    },
    {
      "cell_type": "code",
      "metadata": {
        "colab": {
          "base_uri": "https://localhost:8080/",
          "height": 446
        },
        "id": "2TwXj_lTDHU_",
        "outputId": "2eed5b90-0d89-4500-9942-adec9ad6a3d8"
      },
      "source": [
        "plt.figure(figsize = (10,7))\n",
        "sn.heatmap(confusion_matrix (y_test,y_pred), annot = True, cmap=plt.cm.Reds )"
      ],
      "execution_count": 32,
      "outputs": [
        {
          "output_type": "execute_result",
          "data": {
            "text/plain": [
              "<matplotlib.axes._subplots.AxesSubplot at 0x7fc4b65dc7b8>"
            ]
          },
          "metadata": {
            "tags": []
          },
          "execution_count": 32
        },
        {
          "output_type": "display_data",
          "data": {
            "image/png": "[encoded data removed]",
            "text/plain": [
              "<Figure size 720x504 with 2 Axes>"
            ]
          },
          "metadata": {
            "tags": [],
            "needs_background": "light"
          }
        }
      ]
    },
    {
      "cell_type": "code",
      "metadata": {
        "id": "qO6ngl4p_Fgy"
      },
      "source": [
        ""
      ],
      "execution_count": null,
      "outputs": []
    }
  ]
}