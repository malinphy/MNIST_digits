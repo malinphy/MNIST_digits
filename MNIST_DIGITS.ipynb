{
  "nbformat": 4,
  "nbformat_minor": 0,
  "metadata": {
    "colab": {
      "name": "MNIST_DIGITS.ipynb",
      "provenance": [],
      "collapsed_sections": [],
      "include_colab_link": true
    },
    "kernelspec": {
      "name": "python3",
      "display_name": "Python 3"
    },
    "accelerator": "GPU"
  },
  "cells": [
    {
      "cell_type": "markdown",
      "metadata": {
        "id": "view-in-github",
        "colab_type": "text"
      },
      "source": [
        "<a href=\"https://colab.research.google.com/github/malinphy/MNIST_digits/blob/main/MNIST_DIGITS.ipynb\" target=\"_parent\"><img src=\"https://colab.research.google.com/assets/colab-badge.svg\" alt=\"Open In Colab\"/></a>"
      ]
    },
    {
      "cell_type": "code",
      "metadata": {
        "id": "XkIcJuoToluG"
      },
      "source": [
        ""
      ],
      "execution_count": null,
      "outputs": []
    },
    {
      "cell_type": "code",
      "metadata": {
        "id": "ogclkn8PZsIo"
      },
      "source": [
        "import numpy as np \n",
        "import pandas as pd\n",
        "import matplotlib.pyplot as plt \n",
        "import tensorflow as tf\n",
        "from tensorflow import keras \n",
        "from tensorflow.keras import layers\n",
        "\n",
        "from sklearn.model_selection import KFold"
      ],
      "execution_count": 1,
      "outputs": []
    },
    {
      "cell_type": "code",
      "metadata": {
        "id": "r3FTRbuRZsLF",
        "colab": {
          "base_uri": "https://localhost:8080/"
        },
        "outputId": "605f9cd4-4564-4adf-9a83-5752c2b6ceb6"
      },
      "source": [
        "(x_train, y_train), (x_test, y_test)=tf.keras.datasets.mnist.load_data(\n",
        "    path='mnist.npz'\n",
        ")\n",
        "x_train = x_train.astype('float32')\n",
        "x_test = x_test.astype('float32')\n",
        "y_train = y_train.astype('float32')\n",
        "y_test = y_test.astype('float32')"
      ],
      "execution_count": 2,
      "outputs": [
        {
          "output_type": "stream",
          "text": [
            "Downloading data from https://storage.googleapis.com/tensorflow/tf-keras-datasets/mnist.npz\n",
            "11493376/11490434 [==============================] - 0s 0us/step\n"
          ],
          "name": "stdout"
        }
      ]
    },
    {
      "cell_type": "code",
      "metadata": {
        "id": "k_ROY4S_ZsZW",
        "colab": {
          "base_uri": "https://localhost:8080/"
        },
        "outputId": "b3e183ce-e96a-4fde-a802-6ae2eb46d181"
      },
      "source": [
        "x_train.shape, x_test.shape, y_train.shape"
      ],
      "execution_count": 3,
      "outputs": [
        {
          "output_type": "execute_result",
          "data": {
            "text/plain": [
              "((60000, 28, 28), (10000, 28, 28), (60000,))"
            ]
          },
          "metadata": {
            "tags": []
          },
          "execution_count": 3
        }
      ]
    },
    {
      "cell_type": "code",
      "metadata": {
        "id": "Eg_cE65xZsdq",
        "colab": {
          "base_uri": "https://localhost:8080/"
        },
        "outputId": "06a2353e-b92c-48af-e2c1-c1fe3a8a865b"
      },
      "source": [
        "x_train_norm = np.array(x_train)/255\n",
        "y_train = np.array(y_train)\n",
        "x_test_norm = np.array(x_test)/255\n",
        "y_test = np.array(y_test)\n",
        "\n",
        "acc_per_fold = []\n",
        "loss_per_fold = []\n",
        "hist_per_fold = []\n",
        "np.unique(y_train)"
      ],
      "execution_count": 4,
      "outputs": [
        {
          "output_type": "execute_result",
          "data": {
            "text/plain": [
              "array([0., 1., 2., 3., 4., 5., 6., 7., 8., 9.], dtype=float32)"
            ]
          },
          "metadata": {
            "tags": []
          },
          "execution_count": 4
        }
      ]
    },
    {
      "cell_type": "code",
      "metadata": {
        "id": "yQUs13AMZX4b"
      },
      "source": [
        ""
      ],
      "execution_count": 4,
      "outputs": []
    },
    {
      "cell_type": "markdown",
      "metadata": {
        "id": "kahSBj5SZsXN"
      },
      "source": [
        "model = tf.keras.models.Sequential([\n",
        "        tf.keras.layers.Flatten(input_shape = (28,28)),\n",
        "        tf.keras.layers.Dense(512,activation = tf.nn.relu),  #1.layer  512 means the number of neurons\n",
        "        tf.keras.layers.Dense(10,activation = tf.nn.sigmoid)   ### \n",
        "\n",
        "\n",
        "])\n",
        "\n",
        "\n",
        "model.compile(optimizer='adam',\n",
        "                  loss='sparse_categorical_crossentropy',\n",
        "                  metrics=['accuracy'])\n",
        "\n",
        "Res = model.fit(x_train_norm, y_train, epochs=20 ,verbose = 0)"
      ]
    },
    {
      "cell_type": "code",
      "metadata": {
        "id": "t8YkD_0raDjL"
      },
      "source": [
        "inputs = np.concatenate((x_train_norm, x_test_norm), axis=0)\n",
        "targets = np.concatenate((y_train, y_test), axis=0)\n",
        "\n",
        "KFolder = KFold(n_splits = 5, shuffle=False)\n",
        "\n",
        "\n",
        "\n",
        "for train, test in KFolder.split(inputs, targets):\n",
        "  model = tf.keras.models.Sequential([\n",
        "        tf.keras.layers.Flatten(input_shape = (28,28)),\n",
        "        tf.keras.layers.Dense(512,activation = tf.nn.relu),  #1.layer  512 means the number of neurons\n",
        "        tf.keras.layers.Dense(10,activation = tf.nn.sigmoid)   ### \n",
        "        ])\n",
        "\n",
        "\n",
        "  model.compile(optimizer='adam',\n",
        "                  loss='sparse_categorical_crossentropy',\n",
        "                  metrics=['accuracy'])\n",
        "\n",
        "  Res = model.fit(x_train_norm, y_train, epochs=20 ,verbose = 0)\n",
        "  scores = model.evaluate(inputs[test],targets[test], verbose = 0)"
      ],
      "execution_count": 5,
      "outputs": []
    },
    {
      "cell_type": "code",
      "metadata": {
        "id": "dXRe4oc6ZsUm",
        "colab": {
          "base_uri": "https://localhost:8080/"
        },
        "outputId": "5b73704e-7738-4bb5-92dc-4635af20b13e"
      },
      "source": [
        "Res.history.keys()"
      ],
      "execution_count": 6,
      "outputs": [
        {
          "output_type": "execute_result",
          "data": {
            "text/plain": [
              "dict_keys(['loss', 'accuracy'])"
            ]
          },
          "metadata": {
            "tags": []
          },
          "execution_count": 6
        }
      ]
    },
    {
      "cell_type": "code",
      "metadata": {
        "id": "fJX8kLWqZsSW",
        "colab": {
          "base_uri": "https://localhost:8080/",
          "height": 297
        },
        "outputId": "6a5fdf89-fb65-46c4-da53-0ea6f1bdeaf2"
      },
      "source": [
        "plt.plot(Res.history['loss'],'-ob')\n",
        "plt.xlabel('# of epochs')\n",
        "plt.ylabel('loss')"
      ],
      "execution_count": 7,
      "outputs": [
        {
          "output_type": "execute_result",
          "data": {
            "text/plain": [
              "Text(0, 0.5, 'loss')"
            ]
          },
          "metadata": {
            "tags": []
          },
          "execution_count": 7
        },
        {
          "output_type": "display_data",
          "data": {
            "image/png": "[encoded data removed]",
            "text/plain": [
              "<Figure size 432x288 with 1 Axes>"
            ]
          },
          "metadata": {
            "tags": [],
            "needs_background": "light"
          }
        }
      ]
    },
    {
      "cell_type": "code",
      "metadata": {
        "id": "AtK7w6eDUR0k",
        "colab": {
          "base_uri": "https://localhost:8080/",
          "height": 297
        },
        "outputId": "d3208afc-b608-42dc-9f1f-e0f69775d7ee"
      },
      "source": [
        "plt.plot(Res.history['accuracy'],'-or')\n",
        "plt.xlabel('# of epochs')\n",
        "plt.ylabel('accuracy')"
      ],
      "execution_count": 8,
      "outputs": [
        {
          "output_type": "execute_result",
          "data": {
            "text/plain": [
              "Text(0, 0.5, 'accuracy')"
            ]
          },
          "metadata": {
            "tags": []
          },
          "execution_count": 8
        },
        {
          "output_type": "display_data",
          "data": {
            "image/png": "[encoded data removed]",
            "text/plain": [
              "<Figure size 432x288 with 1 Axes>"
            ]
          },
          "metadata": {
            "tags": [],
            "needs_background": "light"
          }
        }
      ]
    },
    {
      "cell_type": "code",
      "metadata": {
        "id": "0FR1OugCVbi2",
        "colab": {
          "base_uri": "https://localhost:8080/",
          "height": 283
        },
        "outputId": "8daad964-eefa-42ce-c73f-cdf67b74499b"
      },
      "source": [
        "plt.imshow(x_test[2,:,:])"
      ],
      "execution_count": 9,
      "outputs": [
        {
          "output_type": "execute_result",
          "data": {
            "text/plain": [
              "<matplotlib.image.AxesImage at 0x7fe3121625c0>"
            ]
          },
          "metadata": {
            "tags": []
          },
          "execution_count": 9
        },
        {
          "output_type": "display_data",
          "data": {
            "image/png": "[encoded data removed]",
            "text/plain": [
              "<Figure size 432x288 with 1 Axes>"
            ]
          },
          "metadata": {
            "tags": [],
            "needs_background": "light"
          }
        }
      ]
    },
    {
      "cell_type": "code",
      "metadata": {
        "id": "n2vmJul7ZsQc"
      },
      "source": [
        "res=model.predict(x_test)"
      ],
      "execution_count": 10,
      "outputs": []
    },
    {
      "cell_type": "code",
      "metadata": {
        "id": "j8YHojsLZsO5",
        "colab": {
          "base_uri": "https://localhost:8080/"
        },
        "outputId": "3d0ba10b-7aeb-4a37-bc8c-b0a8167c8261"
      },
      "source": [
        "res[2,:]"
      ],
      "execution_count": 11,
      "outputs": [
        {
          "output_type": "execute_result",
          "data": {
            "text/plain": [
              "array([0., 1., 0., 0., 0., 0., 0., 0., 0., 0.], dtype=float32)"
            ]
          },
          "metadata": {
            "tags": []
          },
          "execution_count": 11
        }
      ]
    },
    {
      "cell_type": "code",
      "metadata": {
        "id": "NLD7qV1RmgLr"
      },
      "source": [
        "# At the beginning of the model neither training nor test sets were normalized. Therefore \n",
        "# final accuracy is around 95 %.\n",
        "# To overcome this issue, we need to increase the number of iteration or \n",
        "# normalize the train and test sets."
      ],
      "execution_count": 12,
      "outputs": []
    },
    {
      "cell_type": "code",
      "metadata": {
        "id": "cLQTJlIHPvrE"
      },
      "source": [
        ""
      ],
      "execution_count": 12,
      "outputs": []
    },
    {
      "cell_type": "code",
      "metadata": {
        "id": "qZ6E_sk2PxRY"
      },
      "source": [
        ""
      ],
      "execution_count": 12,
      "outputs": []
    },
    {
      "cell_type": "code",
      "metadata": {
        "id": "ezCwx4o7PxVF"
      },
      "source": [
        ""
      ],
      "execution_count": 12,
      "outputs": []
    },
    {
      "cell_type": "code",
      "metadata": {
        "id": "3aPNKqXoPxm_"
      },
      "source": [
        ""
      ],
      "execution_count": 12,
      "outputs": []
    },
    {
      "cell_type": "code",
      "metadata": {
        "id": "o9tUanKkPxiz"
      },
      "source": [
        ""
      ],
      "execution_count": 12,
      "outputs": []
    },
    {
      "cell_type": "code",
      "metadata": {
        "id": "UuBxQIAdPxfC"
      },
      "source": [
        ""
      ],
      "execution_count": 12,
      "outputs": []
    },
    {
      "cell_type": "code",
      "metadata": {
        "id": "q9176vzvPxb9"
      },
      "source": [
        ""
      ],
      "execution_count": 12,
      "outputs": []
    },
    {
      "cell_type": "code",
      "metadata": {
        "id": "YimlgKNcPxZo"
      },
      "source": [
        ""
      ],
      "execution_count": 12,
      "outputs": []
    }
  ]
}